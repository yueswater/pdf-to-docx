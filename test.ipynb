{
 "cells": [
  {
   "cell_type": "code",
   "execution_count": 2,
   "id": "b8aef2f3",
   "metadata": {},
   "outputs": [
    {
     "name": "stdout",
     "output_type": "stream",
     "text": [
      ".*[-－]\\d+$ → <re.Match object; span=(0, 17), match='外匯匯兌-買入光票及光票託收-18'>\n",
      "[^\\d]+[-－]?\\d+$ → <re.Match object; span=(0, 17), match='外匯匯兌-買入光票及光票託收-18'>\n",
      "^第?[一二三四五六七八九十百千\\d]+[頁页]?$ → None\n",
      "^Page\\s?\\d+$ → None\n",
      "^[A-Z]?\\d+$ → None\n",
      ".*\\s版$ → None\n"
     ]
    }
   ],
   "source": [
    "import re\n",
    "\n",
    "text = \"外匯匯兌-買入光票及光票託收-18\"\n",
    "patterns = [\n",
    "    r\".*[-－]\\d+$\",                      # 標題-18\n",
    "    r\"[^\\d]+[-－]?\\d+$\",                # 中文接 - 數字\n",
    "    r\"^第?[一二三四五六七八九十百千\\d]+[頁页]?$\",  # 第3頁\n",
    "    r\"^Page\\s?\\d+$\",\n",
    "    r\"^[A-Z]?\\d+$\",\n",
    "    r\".*\\s版$\"\n",
    "]\n",
    "\n",
    "for p in patterns:\n",
    "    print(f\"{p} →\", re.match(p, text))\n"
   ]
  }
 ],
 "metadata": {
  "kernelspec": {
   "display_name": "pdf-to-docx-py3.12",
   "language": "python",
   "name": "python3"
  },
  "language_info": {
   "codemirror_mode": {
    "name": "ipython",
    "version": 3
   },
   "file_extension": ".py",
   "mimetype": "text/x-python",
   "name": "python",
   "nbconvert_exporter": "python",
   "pygments_lexer": "ipython3",
   "version": "3.12.10"
  }
 },
 "nbformat": 4,
 "nbformat_minor": 5
}
